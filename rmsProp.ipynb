{
 "cells": [
  {
   "cell_type": "markdown",
   "metadata": {},
   "source": [
    "# Artificial neural network\n",
    "\n",
    "Author : Akhila Ashok \\\n",
    "Method : RMSProp \\\n",
    "Dataset used : wdbc.csv \\\n",
    "Reference : Moodle slides of ANN "
   ]
  },
  {
   "cell_type": "code",
   "execution_count": 1,
   "metadata": {},
   "outputs": [],
   "source": [
    "import numpy as np\n",
    "import pandas as pd\n",
    "import matplotlib.pyplot as plt\n",
    "from rms import *"
   ]
  },
  {
   "cell_type": "code",
   "execution_count": 2,
   "metadata": {},
   "outputs": [
    {
     "data": {
      "text/html": [
       "<div>\n",
       "<style scoped>\n",
       "    .dataframe tbody tr th:only-of-type {\n",
       "        vertical-align: middle;\n",
       "    }\n",
       "\n",
       "    .dataframe tbody tr th {\n",
       "        vertical-align: top;\n",
       "    }\n",
       "\n",
       "    .dataframe thead th {\n",
       "        text-align: right;\n",
       "    }\n",
       "</style>\n",
       "<table border=\"1\" class=\"dataframe\">\n",
       "  <thead>\n",
       "    <tr style=\"text-align: right;\">\n",
       "      <th></th>\n",
       "      <th>Malignant</th>\n",
       "      <th>RadiusMean</th>\n",
       "      <th>TextureMean</th>\n",
       "      <th>PerimeterMean</th>\n",
       "      <th>AreaMean</th>\n",
       "      <th>SmoothnessMean</th>\n",
       "      <th>CompactnessMean</th>\n",
       "      <th>ConcavityMean</th>\n",
       "      <th>ConcavePointsMean</th>\n",
       "      <th>SymmetryMean</th>\n",
       "      <th>...</th>\n",
       "      <th>RadiusWorst</th>\n",
       "      <th>TextureWorst</th>\n",
       "      <th>PerimeterWorst</th>\n",
       "      <th>AreaWorst</th>\n",
       "      <th>SmoothnessWorst</th>\n",
       "      <th>CompactnessWorst</th>\n",
       "      <th>ConcavityWorst</th>\n",
       "      <th>ConcavePointsWorst</th>\n",
       "      <th>SymmetryWorst</th>\n",
       "      <th>FractalDimensionWorst</th>\n",
       "    </tr>\n",
       "  </thead>\n",
       "  <tbody>\n",
       "    <tr>\n",
       "      <th>0</th>\n",
       "      <td>0</td>\n",
       "      <td>11.75</td>\n",
       "      <td>20.18</td>\n",
       "      <td>76.10</td>\n",
       "      <td>419.8</td>\n",
       "      <td>0.10890</td>\n",
       "      <td>0.11410</td>\n",
       "      <td>0.06843</td>\n",
       "      <td>0.03738</td>\n",
       "      <td>0.1993</td>\n",
       "      <td>...</td>\n",
       "      <td>13.32</td>\n",
       "      <td>26.21</td>\n",
       "      <td>88.91</td>\n",
       "      <td>543.9</td>\n",
       "      <td>0.13580</td>\n",
       "      <td>0.1892</td>\n",
       "      <td>0.19560</td>\n",
       "      <td>0.07909</td>\n",
       "      <td>0.3168</td>\n",
       "      <td>0.07987</td>\n",
       "    </tr>\n",
       "    <tr>\n",
       "      <th>1</th>\n",
       "      <td>0</td>\n",
       "      <td>12.47</td>\n",
       "      <td>18.60</td>\n",
       "      <td>81.09</td>\n",
       "      <td>481.9</td>\n",
       "      <td>0.09965</td>\n",
       "      <td>0.10580</td>\n",
       "      <td>0.08005</td>\n",
       "      <td>0.03821</td>\n",
       "      <td>0.1925</td>\n",
       "      <td>...</td>\n",
       "      <td>14.97</td>\n",
       "      <td>24.64</td>\n",
       "      <td>96.05</td>\n",
       "      <td>677.9</td>\n",
       "      <td>0.14260</td>\n",
       "      <td>0.2378</td>\n",
       "      <td>0.26710</td>\n",
       "      <td>0.10150</td>\n",
       "      <td>0.3014</td>\n",
       "      <td>0.08750</td>\n",
       "    </tr>\n",
       "    <tr>\n",
       "      <th>2</th>\n",
       "      <td>0</td>\n",
       "      <td>14.62</td>\n",
       "      <td>24.02</td>\n",
       "      <td>94.57</td>\n",
       "      <td>662.7</td>\n",
       "      <td>0.08974</td>\n",
       "      <td>0.08606</td>\n",
       "      <td>0.03102</td>\n",
       "      <td>0.02957</td>\n",
       "      <td>0.1685</td>\n",
       "      <td>...</td>\n",
       "      <td>16.11</td>\n",
       "      <td>29.11</td>\n",
       "      <td>102.90</td>\n",
       "      <td>803.7</td>\n",
       "      <td>0.11150</td>\n",
       "      <td>0.1766</td>\n",
       "      <td>0.09189</td>\n",
       "      <td>0.06946</td>\n",
       "      <td>0.2522</td>\n",
       "      <td>0.07246</td>\n",
       "    </tr>\n",
       "    <tr>\n",
       "      <th>3</th>\n",
       "      <td>1</td>\n",
       "      <td>18.65</td>\n",
       "      <td>17.60</td>\n",
       "      <td>123.70</td>\n",
       "      <td>1076.0</td>\n",
       "      <td>0.10990</td>\n",
       "      <td>0.16860</td>\n",
       "      <td>0.19740</td>\n",
       "      <td>0.10090</td>\n",
       "      <td>0.1907</td>\n",
       "      <td>...</td>\n",
       "      <td>22.82</td>\n",
       "      <td>21.32</td>\n",
       "      <td>150.60</td>\n",
       "      <td>1567.0</td>\n",
       "      <td>0.16790</td>\n",
       "      <td>0.5090</td>\n",
       "      <td>0.73450</td>\n",
       "      <td>0.23780</td>\n",
       "      <td>0.3799</td>\n",
       "      <td>0.09185</td>\n",
       "    </tr>\n",
       "    <tr>\n",
       "      <th>4</th>\n",
       "      <td>0</td>\n",
       "      <td>12.67</td>\n",
       "      <td>17.30</td>\n",
       "      <td>81.25</td>\n",
       "      <td>489.9</td>\n",
       "      <td>0.10280</td>\n",
       "      <td>0.07664</td>\n",
       "      <td>0.03193</td>\n",
       "      <td>0.02107</td>\n",
       "      <td>0.1707</td>\n",
       "      <td>...</td>\n",
       "      <td>13.71</td>\n",
       "      <td>21.10</td>\n",
       "      <td>88.70</td>\n",
       "      <td>574.4</td>\n",
       "      <td>0.13840</td>\n",
       "      <td>0.1212</td>\n",
       "      <td>0.10200</td>\n",
       "      <td>0.05602</td>\n",
       "      <td>0.2688</td>\n",
       "      <td>0.06888</td>\n",
       "    </tr>\n",
       "    <tr>\n",
       "      <th>...</th>\n",
       "      <td>...</td>\n",
       "      <td>...</td>\n",
       "      <td>...</td>\n",
       "      <td>...</td>\n",
       "      <td>...</td>\n",
       "      <td>...</td>\n",
       "      <td>...</td>\n",
       "      <td>...</td>\n",
       "      <td>...</td>\n",
       "      <td>...</td>\n",
       "      <td>...</td>\n",
       "      <td>...</td>\n",
       "      <td>...</td>\n",
       "      <td>...</td>\n",
       "      <td>...</td>\n",
       "      <td>...</td>\n",
       "      <td>...</td>\n",
       "      <td>...</td>\n",
       "      <td>...</td>\n",
       "      <td>...</td>\n",
       "      <td>...</td>\n",
       "    </tr>\n",
       "    <tr>\n",
       "      <th>393</th>\n",
       "      <td>0</td>\n",
       "      <td>11.34</td>\n",
       "      <td>18.61</td>\n",
       "      <td>72.76</td>\n",
       "      <td>391.2</td>\n",
       "      <td>0.10490</td>\n",
       "      <td>0.08499</td>\n",
       "      <td>0.04302</td>\n",
       "      <td>0.02594</td>\n",
       "      <td>0.1927</td>\n",
       "      <td>...</td>\n",
       "      <td>12.47</td>\n",
       "      <td>23.03</td>\n",
       "      <td>79.15</td>\n",
       "      <td>478.6</td>\n",
       "      <td>0.14830</td>\n",
       "      <td>0.1574</td>\n",
       "      <td>0.16240</td>\n",
       "      <td>0.08542</td>\n",
       "      <td>0.3060</td>\n",
       "      <td>0.06783</td>\n",
       "    </tr>\n",
       "    <tr>\n",
       "      <th>394</th>\n",
       "      <td>1</td>\n",
       "      <td>16.11</td>\n",
       "      <td>18.05</td>\n",
       "      <td>105.10</td>\n",
       "      <td>813.0</td>\n",
       "      <td>0.09721</td>\n",
       "      <td>0.11370</td>\n",
       "      <td>0.09447</td>\n",
       "      <td>0.05943</td>\n",
       "      <td>0.1861</td>\n",
       "      <td>...</td>\n",
       "      <td>19.92</td>\n",
       "      <td>25.27</td>\n",
       "      <td>129.00</td>\n",
       "      <td>1233.0</td>\n",
       "      <td>0.13140</td>\n",
       "      <td>0.2236</td>\n",
       "      <td>0.28020</td>\n",
       "      <td>0.12160</td>\n",
       "      <td>0.2792</td>\n",
       "      <td>0.08158</td>\n",
       "    </tr>\n",
       "    <tr>\n",
       "      <th>395</th>\n",
       "      <td>0</td>\n",
       "      <td>11.14</td>\n",
       "      <td>14.07</td>\n",
       "      <td>71.24</td>\n",
       "      <td>384.6</td>\n",
       "      <td>0.07274</td>\n",
       "      <td>0.06064</td>\n",
       "      <td>0.04505</td>\n",
       "      <td>0.01471</td>\n",
       "      <td>0.1690</td>\n",
       "      <td>...</td>\n",
       "      <td>12.12</td>\n",
       "      <td>15.82</td>\n",
       "      <td>79.62</td>\n",
       "      <td>453.5</td>\n",
       "      <td>0.08864</td>\n",
       "      <td>0.1256</td>\n",
       "      <td>0.12010</td>\n",
       "      <td>0.03922</td>\n",
       "      <td>0.2576</td>\n",
       "      <td>0.07018</td>\n",
       "    </tr>\n",
       "    <tr>\n",
       "      <th>396</th>\n",
       "      <td>1</td>\n",
       "      <td>22.01</td>\n",
       "      <td>21.90</td>\n",
       "      <td>147.20</td>\n",
       "      <td>1482.0</td>\n",
       "      <td>0.10630</td>\n",
       "      <td>0.19540</td>\n",
       "      <td>0.24480</td>\n",
       "      <td>0.15010</td>\n",
       "      <td>0.1824</td>\n",
       "      <td>...</td>\n",
       "      <td>27.66</td>\n",
       "      <td>25.80</td>\n",
       "      <td>195.00</td>\n",
       "      <td>2227.0</td>\n",
       "      <td>0.12940</td>\n",
       "      <td>0.3885</td>\n",
       "      <td>0.47560</td>\n",
       "      <td>0.24320</td>\n",
       "      <td>0.2741</td>\n",
       "      <td>0.08574</td>\n",
       "    </tr>\n",
       "    <tr>\n",
       "      <th>397</th>\n",
       "      <td>0</td>\n",
       "      <td>15.00</td>\n",
       "      <td>15.51</td>\n",
       "      <td>97.45</td>\n",
       "      <td>684.5</td>\n",
       "      <td>0.08371</td>\n",
       "      <td>0.10960</td>\n",
       "      <td>0.06505</td>\n",
       "      <td>0.03780</td>\n",
       "      <td>0.1881</td>\n",
       "      <td>...</td>\n",
       "      <td>16.41</td>\n",
       "      <td>19.31</td>\n",
       "      <td>114.20</td>\n",
       "      <td>808.2</td>\n",
       "      <td>0.11360</td>\n",
       "      <td>0.3627</td>\n",
       "      <td>0.34020</td>\n",
       "      <td>0.13790</td>\n",
       "      <td>0.2954</td>\n",
       "      <td>0.08362</td>\n",
       "    </tr>\n",
       "  </tbody>\n",
       "</table>\n",
       "<p>398 rows × 31 columns</p>\n",
       "</div>"
      ],
      "text/plain": [
       "     Malignant  RadiusMean  TextureMean  PerimeterMean  AreaMean  \\\n",
       "0            0       11.75        20.18          76.10     419.8   \n",
       "1            0       12.47        18.60          81.09     481.9   \n",
       "2            0       14.62        24.02          94.57     662.7   \n",
       "3            1       18.65        17.60         123.70    1076.0   \n",
       "4            0       12.67        17.30          81.25     489.9   \n",
       "..         ...         ...          ...            ...       ...   \n",
       "393          0       11.34        18.61          72.76     391.2   \n",
       "394          1       16.11        18.05         105.10     813.0   \n",
       "395          0       11.14        14.07          71.24     384.6   \n",
       "396          1       22.01        21.90         147.20    1482.0   \n",
       "397          0       15.00        15.51          97.45     684.5   \n",
       "\n",
       "     SmoothnessMean  CompactnessMean  ConcavityMean  ConcavePointsMean  \\\n",
       "0           0.10890          0.11410        0.06843            0.03738   \n",
       "1           0.09965          0.10580        0.08005            0.03821   \n",
       "2           0.08974          0.08606        0.03102            0.02957   \n",
       "3           0.10990          0.16860        0.19740            0.10090   \n",
       "4           0.10280          0.07664        0.03193            0.02107   \n",
       "..              ...              ...            ...                ...   \n",
       "393         0.10490          0.08499        0.04302            0.02594   \n",
       "394         0.09721          0.11370        0.09447            0.05943   \n",
       "395         0.07274          0.06064        0.04505            0.01471   \n",
       "396         0.10630          0.19540        0.24480            0.15010   \n",
       "397         0.08371          0.10960        0.06505            0.03780   \n",
       "\n",
       "     SymmetryMean  ...  RadiusWorst  TextureWorst  PerimeterWorst  AreaWorst  \\\n",
       "0          0.1993  ...        13.32         26.21           88.91      543.9   \n",
       "1          0.1925  ...        14.97         24.64           96.05      677.9   \n",
       "2          0.1685  ...        16.11         29.11          102.90      803.7   \n",
       "3          0.1907  ...        22.82         21.32          150.60     1567.0   \n",
       "4          0.1707  ...        13.71         21.10           88.70      574.4   \n",
       "..            ...  ...          ...           ...             ...        ...   \n",
       "393        0.1927  ...        12.47         23.03           79.15      478.6   \n",
       "394        0.1861  ...        19.92         25.27          129.00     1233.0   \n",
       "395        0.1690  ...        12.12         15.82           79.62      453.5   \n",
       "396        0.1824  ...        27.66         25.80          195.00     2227.0   \n",
       "397        0.1881  ...        16.41         19.31          114.20      808.2   \n",
       "\n",
       "     SmoothnessWorst  CompactnessWorst  ConcavityWorst  ConcavePointsWorst  \\\n",
       "0            0.13580            0.1892         0.19560             0.07909   \n",
       "1            0.14260            0.2378         0.26710             0.10150   \n",
       "2            0.11150            0.1766         0.09189             0.06946   \n",
       "3            0.16790            0.5090         0.73450             0.23780   \n",
       "4            0.13840            0.1212         0.10200             0.05602   \n",
       "..               ...               ...             ...                 ...   \n",
       "393          0.14830            0.1574         0.16240             0.08542   \n",
       "394          0.13140            0.2236         0.28020             0.12160   \n",
       "395          0.08864            0.1256         0.12010             0.03922   \n",
       "396          0.12940            0.3885         0.47560             0.24320   \n",
       "397          0.11360            0.3627         0.34020             0.13790   \n",
       "\n",
       "     SymmetryWorst  FractalDimensionWorst  \n",
       "0           0.3168                0.07987  \n",
       "1           0.3014                0.08750  \n",
       "2           0.2522                0.07246  \n",
       "3           0.3799                0.09185  \n",
       "4           0.2688                0.06888  \n",
       "..             ...                    ...  \n",
       "393         0.3060                0.06783  \n",
       "394         0.2792                0.08158  \n",
       "395         0.2576                0.07018  \n",
       "396         0.2741                0.08574  \n",
       "397         0.2954                0.08362  \n",
       "\n",
       "[398 rows x 31 columns]"
      ]
     },
     "execution_count": 2,
     "metadata": {},
     "output_type": "execute_result"
    }
   ],
   "source": [
    "df = pd.read_csv(\"./wdbc/wdbc_train.csv\",sep=\";\",)\n",
    "df"
   ]
  },
  {
   "cell_type": "code",
   "execution_count": 3,
   "metadata": {},
   "outputs": [
    {
     "name": "stdout",
     "output_type": "stream",
     "text": [
      "y: [0 0 0 1 0 1 0 1 0 0 0 0 1 0 0 1 0 0 0 0 0 0 0 0 0 1 1 0 0 1 0 0 0 1 1 0 1\n",
      " 0 0 0 1 0 1 0 1 0 0 0 0 0 0 1 0 0 0 0 0 0 0 1 0 0 0 0 0 0 0 0 0 0 1 0 0 0\n",
      " 0 0 1 1 1 0 1 1 1 1 0 0 1 1 1 1 1 0 1 0 0 0 0 0 0 0 1 0 0 0 0 0 0 0 1 1 0\n",
      " 0 0 0 1 0 0 0 1 1 0 0 0 1 0 1 0 0 1 0 0 0 0 1 0 0 0 0 0 1 0 1 0 0 0 0 0 0\n",
      " 0 0 0 1 1 1 1 1 0 1 1 1 0 1 0 0 0 0 1 0 0 0 0 1 0 0 1 0 1 1 0 0 1 0 1 1 1\n",
      " 1 0 0 0 0 1 0 1 1 0 0 0 0 0 0 0 0 0 0 1 0 0 0 0 1 0 0 0 0 1 1 1 0 0 1 0 0\n",
      " 0 1 0 0 0 1 0 0 1 1 0 1 0 1 1 1 1 0 1 1 0 0 0 1 1 1 1 0 0 0 0 1 1 0 0 0 1\n",
      " 0 0 0 0 0 0 1 0 0 1 0 0 0 1 0 0 0 0 1 0 0 0 0 1 0 0 0 1 0 1 0 1 1 0 0 0 1\n",
      " 0 0 0 0 1 1 1 0 1 0 1 0 1 1 1 0 0 0 0 0 1 0 1 0 1 1 1 0 0 1 0 0 0 0 0 0 0\n",
      " 0 1 1 1 1 0 1 0 0 1 0 1 0 1 0 1 0 0 0 1 0 0 1 0 1 0 1 0 1 0 0 1 1 0 1 0 0\n",
      " 1 1 1 0 1 1 1 0 1 1 0 0 0 0 0 0 1 0 0 1 0 1 0 0 1 0 1 0]\n",
      "X.shape: (398, 30)\n"
     ]
    }
   ],
   "source": [
    "x_train = df.iloc[:,1:]\n",
    "y_train = df.iloc[:,0]\n",
    "x_train = np.asarray(x_train)\n",
    "y_train = np.asarray(y_train)\n",
    "print(\"y:\", y_train)\n",
    "print(\"X.shape:\", x_train.shape)"
   ]
  },
  {
   "cell_type": "code",
   "execution_count": 4,
   "metadata": {},
   "outputs": [
    {
     "name": "stdout",
     "output_type": "stream",
     "text": [
      "Old standard deviations: [3.59364465e+00 4.28497098e+00 2.48201309e+01 3.65680598e+02\n",
      " 1.38887240e-02 5.20826585e-02 8.08028414e-02 3.91187547e-02\n",
      " 2.67346831e-02 6.86881510e-03 2.94232543e-01 5.26746288e-01\n",
      " 2.16614255e+00 5.02399884e+01 2.97919134e-03 1.90177008e-02\n",
      " 3.35974131e-02 6.39426794e-03 7.50954668e-03 2.77196336e-03\n",
      " 4.90072619e+00 6.14912731e+00 3.43431266e+01 5.85007468e+02\n",
      " 2.25287891e-02 1.61139977e-01 2.15073090e-01 6.59844461e-02\n",
      " 6.06059061e-02 1.81047581e-02]\n",
      "Old means: [-3.12424570e-16 -3.01266549e-16 -2.45476448e-16 -1.51749077e-16\n",
      " -4.61942042e-16  1.69601909e-16  1.42822660e-16 -1.69601909e-16\n",
      " -1.27647753e-15 -2.56634468e-16 -1.74065117e-16  1.82991534e-16\n",
      " -1.24969828e-16  4.01688733e-17  1.02653787e-16  2.23160407e-17\n",
      " -1.02653787e-16  2.85645321e-16  4.32931190e-16  1.07116995e-16\n",
      " -4.64173646e-16 -8.92641628e-17  1.29433036e-16  8.48009546e-17\n",
      "  2.14233991e-16 -8.03377465e-17 -4.46320814e-17  9.81905791e-17\n",
      " -1.60675493e-16  6.24849139e-16]\n",
      "New standard deviations: [1. 1. 1. 1. 1. 1. 1. 1. 1. 1. 1. 1. 1. 1. 1. 1. 1. 1. 1. 1. 1. 1. 1. 1.\n",
      " 1. 1. 1. 1. 1. 1.]\n"
     ]
    }
   ],
   "source": [
    "means, sds = get_mean_std(x_train)\n",
    "x_train = normalization(x_train, means=means, sds=sds) # zero mean and unit variance\n",
    "print(\"Old standard deviations:\", sds)\n",
    "meansNew, sdsNew = get_mean_std(x_train)\n",
    "print(\"Old means:\", meansNew)\n",
    "print(\"New standard deviations:\", sdsNew)"
   ]
  },
  {
   "cell_type": "code",
   "execution_count": 5,
   "metadata": {},
   "outputs": [],
   "source": [
    "#Training model with rmsprop"
   ]
  },
  {
   "cell_type": "code",
   "execution_count": 6,
   "metadata": {},
   "outputs": [],
   "source": [
    "def train_model_with_rms_prop(x_train, y_train, hidden_neurons, T, alpha, early_stopping):\n",
    "    np.random.seed(777)\n",
    "    # randomly initialize parameters\n",
    "    parameters = initialize_weights(x_train, hidden_neurons)\n",
    "    rms_prop = {\"W1_mean_squared\": 0, \"B1_mean_squared\": 0,\n",
    "                \"W2_mean_squared\": 0, \"B2_mean_squared\": 0}\n",
    "    epsilon = 1e-8\n",
    "    loss = []\n",
    "    last_loss = np.infty\n",
    "    conv = 0\n",
    "    for t in range(T):\n",
    "        A1, A2 = vectorized_forward_propagation(x_train, parameters)\n",
    "        l = compute_loss(y_train, A2)\n",
    "        if early_stopping and last_loss - l < 1e-5:\n",
    "            conv += 1\n",
    "        else:\n",
    "            conv = 0\n",
    "        if conv >= 10:\n",
    "            print(\"Converged at t with RMSProp:\", t)\n",
    "            break\n",
    "        last_loss = l\n",
    "        loss.append(l)\n",
    "        parameters, rms_prop = vectorized_backward_propagation_with_rms(\n",
    "            x_train, y_train, A1, A2, parameters, rms_prop, alpha, epsilon)\n",
    "    return loss, parameters\n",
    "\n",
    "\n",
    "def train_model(x_train, y_train, hidden_neurons, T, alpha, earlyStopping):\n",
    "    np.random.seed(777)\n",
    "    # randomly initialize parameters\n",
    "    parameters = initialize_weights(x_train, hidden_neurons)\n",
    "    loss = []\n",
    "    last_loss = np.infty\n",
    "    conv = 0\n",
    "    for t in range(T):\n",
    "        A1, A2 = vectorized_forward_propagation(x_train, parameters)\n",
    "        l = compute_loss(y_train, A2)\n",
    "        if earlyStopping and last_loss - l < 1e-5:\n",
    "            conv += 1\n",
    "        else:\n",
    "            conv = 0\n",
    "        if conv >= 10:\n",
    "            print(\"Converged at t:\", t)\n",
    "            break\n",
    "        last_loss = l\n",
    "        loss.append(l)\n",
    "        parameters = vectorized_backward_propagation(\n",
    "            x_train, y_train, A1, A2, parameters, alpha=alpha)\n",
    "    return loss, parameters"
   ]
  },
  {
   "cell_type": "code",
   "execution_count": 7,
   "metadata": {},
   "outputs": [
    {
     "name": "stdout",
     "output_type": "stream",
     "text": [
      "Converged at t: 7519\n",
      "Converged at t with RMSProp: 445\n"
     ]
    },
    {
     "data": {
      "text/plain": [
       "Text(0, 0.5, 'SSE')"
      ]
     },
     "execution_count": 7,
     "metadata": {},
     "output_type": "execute_result"
    },
    {
     "data": {
      "image/png": "[encoded data removed]",
      "text/plain": [
       "<Figure size 640x480 with 1 Axes>"
      ]
     },
     "metadata": {},
     "output_type": "display_data"
    }
   ],
   "source": [
    "loss, parameters1 = train_model(x_train, y_train, 7, 10000, 0.01, True)\n",
    "loss_with_rms_prop,parameters_with_rms_prop1=train_model_with_rms_prop(x_train, y_train, 7, 10000, 0.01, True)\n",
    "\n",
    "plt.plot(range(len(loss)), loss, '--b')\n",
    "plt.plot(range(len(loss_with_rms_prop)), loss_with_rms_prop, '--r')\n",
    "\n",
    "plt.xlabel(\"iterations\")\n",
    "plt.ylabel(\"SSE\")\n"
   ]
  },
  {
   "cell_type": "code",
   "execution_count": 8,
   "metadata": {},
   "outputs": [],
   "source": [
    "#Training model with early stopped disbaled by passing hyperparameters {hidden_layers: 7,learning_rate: 0.01}"
   ]
  },
  {
   "cell_type": "code",
   "execution_count": 9,
   "metadata": {},
   "outputs": [
    {
     "data": {
      "text/plain": [
       "Text(0, 0.5, 'SSE')"
      ]
     },
     "execution_count": 9,
     "metadata": {},
     "output_type": "execute_result"
    },
    {
     "data": {
      "image/png": "[encoded data removed]",
      "text/plain": [
       "<Figure size 640x480 with 1 Axes>"
      ]
     },
     "metadata": {},
     "output_type": "display_data"
    }
   ],
   "source": [
    "loss, parameters2 = train_model(x_train, y_train, 7, 10000, 0.01, False)\n",
    "loss_with_rms_prop,parameters_with_rms_prop2=train_model_with_rms_prop(x_train, y_train, 7, 10000, 0.01, False)\n",
    "\n",
    "plt.plot(range(len(loss)), loss, '--b')\n",
    "plt.plot(range(len(loss_with_rms_prop)), loss_with_rms_prop, '--r')\n",
    "\n",
    "plt.xlabel(\"iterations\")\n",
    "plt.ylabel(\"SSE\")"
   ]
  },
  {
   "cell_type": "code",
   "execution_count": 10,
   "metadata": {},
   "outputs": [],
   "source": [
    "#Training model with early stopped disbaled by passing hyperparameters {hidden_layers: 5,learning_rate: 0.001}"
   ]
  },
  {
   "cell_type": "code",
   "execution_count": 11,
   "metadata": {},
   "outputs": [
    {
     "data": {
      "text/plain": [
       "Text(0, 0.5, 'SSE')"
      ]
     },
     "execution_count": 11,
     "metadata": {},
     "output_type": "execute_result"
    },
    {
     "data": {
      "image/png": "[encoded data removed]",
      "text/plain": [
       "<Figure size 640x480 with 1 Axes>"
      ]
     },
     "metadata": {},
     "output_type": "display_data"
    }
   ],
   "source": [
    "loss, parameters2 = train_model(x_train, y_train, 5, 10000, 0.001, False)\n",
    "loss_with_rms_prop,parameters_with_rms_prop2=train_model_with_rms_prop(x_train, y_train, 5, 10000, 0.001, False)\n",
    "\n",
    "plt.plot(range(len(loss)), loss, '--b')\n",
    "plt.plot(range(len(loss_with_rms_prop)), loss_with_rms_prop, '--r')\n",
    "\n",
    "plt.xlabel(\"iterations\")\n",
    "plt.ylabel(\"SSE\")"
   ]
  },
  {
   "cell_type": "code",
   "execution_count": 12,
   "metadata": {},
   "outputs": [],
   "source": [
    "#Passing test data csv"
   ]
  },
  {
   "cell_type": "code",
   "execution_count": 13,
   "metadata": {},
   "outputs": [
    {
     "name": "stdout",
     "output_type": "stream",
     "text": [
      "y: [0 0 0 1 1 0 0 1 1 0 1 0 0 0 0 0 1 1 0 1 1 1 1 0 0 0 0 1 1 1 0 1 0 0 0 1 0\n",
      " 0 1 1 1 0 0 0 1 0 0 0 1 1 1 0 0 1 1 0 1 0 1 0 0 0 0 1 0 0 1 1 1 1 0 0 0 1\n",
      " 1 1 1 0 1 1 0 0 0 1 0 0 1 0 0 0 1 1 0 0 0 0 0 1 0 0 0 0 0 0 1 0 1 0 0 0 0\n",
      " 1 0 1 1 0 0 1 1 0 0 1 0 0 1 1 1 0 1 1 0 0 0 0 0 0 0 1 1 0 1 0 0 1 0 0 0 1\n",
      " 1 1 0 1 0 0 0 1 0 0 1 1 0 1 0 0 0 1 0 0 0 0 1]\n",
      "x.shape: (171, 30)\n"
     ]
    }
   ],
   "source": [
    "df_test = pd.read_csv(\"./wdbc/wdbc_test.csv\", sep=\";\")\n",
    "x_test = df_test.iloc[:,1:]\n",
    "y_test = df_test.iloc[:,0]\n",
    "x_test = np.asarray(x_test)\n",
    "y_test = np.asarray(y_test)\n",
    "print(\"y:\", y_test)\n",
    "print(\"x.shape:\", x_test.shape)"
   ]
  },
  {
   "cell_type": "code",
   "execution_count": 14,
   "metadata": {},
   "outputs": [],
   "source": [
    "x_test = normalization(x_test, means=means, sds=sds) # (close to) zero mean and unit variance"
   ]
  },
  {
   "cell_type": "code",
   "execution_count": 15,
   "metadata": {},
   "outputs": [],
   "source": [
    "def test_model(x_test, y_test, parameters):\n",
    "    A1, A2 = vectorized_forward_propagation(x_test, parameters)\n",
    "    # get predictions\n",
    "    yhat_test = (np.array(A2[0]) >= 0.5).astype(int)\n",
    "    classes, X2 = confusion_matrix(y_test, yhat_test)\n",
    "    print(classes)\n",
    "    return accuracy(X2)"
   ]
  },
  {
   "cell_type": "code",
   "execution_count": 16,
   "metadata": {},
   "outputs": [],
   "source": [
    "#Accuracy of test data"
   ]
  },
  {
   "cell_type": "code",
   "execution_count": 17,
   "metadata": {},
   "outputs": [
    {
     "name": "stdout",
     "output_type": "stream",
     "text": [
      "[0, 1]\n",
      "accuracy  0.9590643274853801\n",
      "[0, 1]\n",
      "accuracy with RMSProp 0.9532163742690059\n"
     ]
    }
   ],
   "source": [
    "print(\"accuracy \",test_model(x_test, y_test, parameters1))\n",
    "print(\"accuracy with RMSProp\",test_model(x_test, y_test, parameters_with_rms_prop1))\n"
   ]
  },
  {
   "cell_type": "code",
   "execution_count": 18,
   "metadata": {},
   "outputs": [
    {
     "name": "stdout",
     "output_type": "stream",
     "text": [
      "[0, 1]\n",
      "accuracy  0.9590643274853801\n",
      "[0, 1]\n",
      "accuracy with RMSProp 0.9532163742690059\n"
     ]
    }
   ],
   "source": [
    "print(\"accuracy \",test_model(x_test, y_test, parameters2))\n",
    "print(\"accuracy with RMSProp\",test_model(x_test, y_test, parameters_with_rms_prop2))"
   ]
  }
 ],
 "metadata": {
  "kernelspec": {
   "display_name": "Python 3 (ipykernel)",
   "language": "python",
   "name": "python3"
  },
  "language_info": {
   "codemirror_mode": {
    "name": "ipython",
    "version": 3
   },
   "file_extension": ".py",
   "mimetype": "text/x-python",
   "name": "python",
   "nbconvert_exporter": "python",
   "pygments_lexer": "ipython3",
   "version": "3.9.13"
  },
  "vscode": {
   "interpreter": {
    "hash": "2126334bec13788a91962e6cb69dd6544abce81d500f341b0dc5e76d567dd740"
   }
  }
 },
 "nbformat": 4,
 "nbformat_minor": 4
}
